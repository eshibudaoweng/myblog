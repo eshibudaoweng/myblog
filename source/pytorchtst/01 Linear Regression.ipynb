{
 "cells": [
  {
   "cell_type": "code",
   "execution_count": 2,
   "metadata": {
    "collapsed": true
   },
   "outputs": [],
   "source": [
    "import torch\n",
    "import torch.nn as nn\n",
    "import numpy as np\n",
    "import matplotlib.pyplot as plt\n",
    "from torch.autograd import Variable\n",
    "import time"
   ]
  },
  {
   "cell_type": "code",
   "execution_count": 3,
   "metadata": {
    "collapsed": true
   },
   "outputs": [],
   "source": [
    "#线性回归"
   ]
  },
  {
   "cell_type": "code",
   "execution_count": 4,
   "metadata": {
    "collapsed": true
   },
   "outputs": [],
   "source": [
    "#Hyper Parameters超参数设置\n",
    "input_size = 1\n",
    "output_size = 1\n",
    "num_epochs = 60\n",
    "learning_rate = 0.001"
   ]
  },
  {
   "cell_type": "code",
   "execution_count": 5,
   "metadata": {
    "collapsed": false
   },
   "outputs": [
    {
     "name": "stdout",
     "output_type": "stream",
     "text": [
      "x_train=  [[  3.29999995]\n",
      " [  4.4000001 ]\n",
      " [  5.5       ]\n",
      " [  6.71000004]\n",
      " [  6.92999983]\n",
      " [  4.16800022]\n",
      " [  9.77900028]\n",
      " [  6.18200016]\n",
      " [  7.59000015]\n",
      " [  2.16700006]\n",
      " [  7.04199982]\n",
      " [ 10.79100037]\n",
      " [  5.3130002 ]\n",
      " [  7.99700022]\n",
      " [  3.0999999 ]]\n",
      "y_train=  [[ 1.70000005]\n",
      " [ 2.75999999]\n",
      " [ 2.08999991]\n",
      " [ 3.19000006]\n",
      " [ 1.69400001]\n",
      " [ 1.57299995]\n",
      " [ 3.36599994]\n",
      " [ 2.59599996]\n",
      " [ 2.52999997]\n",
      " [ 1.22099996]\n",
      " [ 2.8269999 ]\n",
      " [ 3.46499991]\n",
      " [ 1.64999998]\n",
      " [ 2.90400004]\n",
      " [ 1.29999995]]\n"
     ]
    }
   ],
   "source": [
    "#toy dataset\n",
    "x_train = np.array([[3.3], [4.4], [5.5], [6.71], [6.93], [4.168], \n",
    "                    [9.779], [6.182], [7.59], [2.167], [7.042], \n",
    "                    [10.791], [5.313], [7.997], [3.1]],\n",
    "dtype=np.float32)\n",
    "y_train = np.array([[1.7], [2.76], [2.09], [3.19], [1.694], [1.573], \n",
    "                    [3.366], [2.596], [2.53], [1.221], [2.827], \n",
    "                    [3.465], [1.65], [2.904], [1.3]],\n",
    "dtype=np.float32)\n",
    "print('x_train= ',x_train)\n",
    "print('y_train= ',y_train)"
   ]
  },
  {
   "cell_type": "code",
   "execution_count": 6,
   "metadata": {
    "collapsed": true
   },
   "outputs": [],
   "source": [
    "#创建一个线性回归模型\n",
    "class LinearRegression(nn.Module):\n",
    "    def __init__(self, input_size, output_size):\n",
    "        super(LinearRegression, self).__init__()\n",
    "        self.linear = nn.Linear(input_size, output_size)  \n",
    "    \n",
    "    def forward(self, x):\n",
    "        out = self.linear(x)\n",
    "        return out"
   ]
  },
  {
   "cell_type": "code",
   "execution_count": 7,
   "metadata": {
    "collapsed": false
   },
   "outputs": [
    {
     "data": {
      "image/png": "[encoded data removed]",
      "text/plain": [
       "<matplotlib.figure.Figure at 0x1171eee48>"
      ]
     },
     "metadata": {},
     "output_type": "display_data"
    }
   ],
   "source": [
    "model = LinearRegression(input_size,output_size)\n",
    "#画图\n",
    "predicted = model(Variable(torch.from_numpy(x_train))).data.numpy()\n",
    "plt.plot(x_train, y_train, 'ro', label='Original data')\n",
    "plt.plot(x_train, predicted, label='Fitted line')\n",
    "plt.legend()\n",
    "plt.show()"
   ]
  },
  {
   "cell_type": "code",
   "execution_count": 8,
   "metadata": {
    "collapsed": true
   },
   "outputs": [],
   "source": [
    "#损失和优化\n",
    "criterion = nn.MSELoss()\n",
    "optimizer = torch.optim.SGD(model.parameters(), lr=learning_rate)"
   ]
  },
  {
   "cell_type": "code",
   "execution_count": 9,
   "metadata": {
    "collapsed": false
   },
   "outputs": [
    {
     "name": "stdout",
     "output_type": "stream",
     "text": [
      "Epoch [5/60], Loss: 9.7529\n",
      "Epoch [10/60], Loss: 4.0939\n",
      "Epoch [15/60], Loss: 1.8012\n",
      "Epoch [20/60], Loss: 0.8723\n",
      "Epoch [25/60], Loss: 0.4959\n",
      "Epoch [30/60], Loss: 0.3433\n",
      "Epoch [35/60], Loss: 0.2814\n",
      "Epoch [40/60], Loss: 0.2562\n",
      "Epoch [45/60], Loss: 0.2459\n",
      "Epoch [50/60], Loss: 0.2416\n",
      "Epoch [55/60], Loss: 0.2397\n",
      "Epoch [60/60], Loss: 0.2389\n"
     ]
    }
   ],
   "source": [
    "#训练模型\n",
    "for epoch in range(num_epochs):\n",
    "    inputs = Variable(torch.from_numpy(x_train))\n",
    "    targets = Variable(torch.from_numpy(y_train))\n",
    "    #forword+backword+optimize\n",
    "    optimizer.zero_grad()\n",
    "    outputs = model(inputs)\n",
    "    loss = criterion(outputs,targets)\n",
    "    loss.backward()\n",
    "    optimizer.step()\n",
    "    if(epoch+1)%5 == 0:\n",
    "        print('Epoch [%d/%d], Loss: %.4f'\n",
    "              %(epoch+1, num_epochs, loss.data[0]))"
   ]
  },
  {
   "cell_type": "code",
   "execution_count": 22,
   "metadata": {
    "collapsed": false
   },
   "outputs": [
    {
     "data": {
      "image/png": "[encoded data removed]",
      "text/plain": [
       "<matplotlib.figure.Figure at 0x1101ed198>"
      ]
     },
     "metadata": {},
     "output_type": "display_data"
    }
   ],
   "source": [
    "#画图\n",
    "predicted = model(Variable(torch.from_numpy(x_train))).data.numpy()\n",
    "plt.plot(x_train, y_train, 'ro', label='Original data')\n",
    "plt.plot(x_train, predicted, label='Fitted line')\n",
    "plt.legend()\n",
    "plt.show()"
   ]
  },
  {
   "cell_type": "code",
   "execution_count": null,
   "metadata": {
    "collapsed": true
   },
   "outputs": [],
   "source": []
  }
 ],
 "metadata": {
  "kernelspec": {
   "display_name": "Python 3",
   "language": "python",
   "name": "python3"
  },
  "language_info": {
   "codemirror_mode": {
    "name": "ipython",
    "version": 3
   },
   "file_extension": ".py",
   "mimetype": "text/x-python",
   "name": "python",
   "nbconvert_exporter": "python",
   "pygments_lexer": "ipython3",
   "version": "3.6.0"
  }
 },
 "nbformat": 4,
 "nbformat_minor": 2
}
